{
 "cells": [
  {
   "cell_type": "markdown",
   "id": "05083cf6-9a02-491e-9ca9-00a6359ab939",
   "metadata": {},
   "source": [
    "# Customer Behavioral Analysis"
   ]
  },
  {
   "cell_type": "markdown",
   "id": "f7c0f999-e160-4217-9785-4c92fcb7209a",
   "metadata": {},
   "source": [
    "## In this notebook we are going to perform following things:\n",
    "### 1. Generate a random dataset using Numpy and Pandas\n",
    "### 2. Perform Data Cleaning using PySpark\n",
    "### 3. Exploratory Data Analysis (EDA) using PySpark\n",
    "### 4. Feature Engineering\n",
    "### 5. Business Insights and Recommendations\n",
    "### 6. Customer Segmentation"
   ]
  },
  {
   "cell_type": "markdown",
   "id": "76dd596d-7674-49f6-a0a4-c541f8a1f332",
   "metadata": {},
   "source": [
    "# ---------------------------------------------------------------------------"
   ]
  },
  {
   "cell_type": "markdown",
   "id": "9f5cf94a-6668-41ba-83ca-51f4fe09b71a",
   "metadata": {},
   "source": [
    "### 1. Generate a random dataset using Numpy and Pandas"
   ]
  },
  {
   "cell_type": "code",
   "execution_count": 1,
   "id": "a7de1026-869e-4d5c-8078-f5641a7c483a",
   "metadata": {},
   "outputs": [],
   "source": [
    "#Import required librarires\n",
    "import pandas as pd\n",
    "import numpy as np\n",
    "import random"
   ]
  },
  {
   "cell_type": "code",
   "execution_count": 2,
   "id": "859a0d40-0884-4864-ade1-c2973536d19a",
   "metadata": {},
   "outputs": [],
   "source": [
    "# Set random seed for reproducibility\n",
    "np.random.seed(42)\n",
    "random.seed(42)"
   ]
  },
  {
   "cell_type": "code",
   "execution_count": 3,
   "id": "31f2dfa4-15df-4aad-9b89-75bbef13a1bf",
   "metadata": {},
   "outputs": [],
   "source": [
    "# Define number of rows\n",
    "num_rows = 100000"
   ]
  },
  {
   "cell_type": "code",
   "execution_count": 4,
   "id": "ab43ccc0-7fca-4215-aabd-2dd4fd83850e",
   "metadata": {},
   "outputs": [],
   "source": [
    "# Generate random dates spanning 3 consecutive years (2021-2023)\n",
    "dates = pd.date_range(start=\"2021-01-01\", end=\"2023-12-31\", freq=\"D\")\n",
    "transaction_dates = np.random.choice(dates, num_rows)"
   ]
  },
  {
   "cell_type": "code",
   "execution_count": 5,
   "id": "e6f166bc-e29d-4399-9f1d-1e2567d6ba14",
   "metadata": {},
   "outputs": [],
   "source": [
    "# Generate random Customer IDs\n",
    "customer_ids = [f'CUST{str(i).zfill(5)}' for i in np.random.randint(1, 5000, num_rows)]"
   ]
  },
  {
   "cell_type": "code",
   "execution_count": 6,
   "id": "2de8b5e9-4e7f-4507-b2a3-9f8b0073e4f4",
   "metadata": {},
   "outputs": [],
   "source": [
    "# Generate random Product IDs and Categories\n",
    "product_ids = [f'P{str(i).zfill(4)}' for i in np.random.randint(1, 200, num_rows)]\n",
    "categories = [\"Electronics\", \"Fashion\", \"Home & Kitchen\", \"Sports\", \"Toys\", \"Beauty\", \"Books\", \"Grocery\"]\n",
    "product_names = [f\"Product_{i}\" for i in np.random.randint(1, 200, num_rows)]\n",
    "product_categories = np.random.choice(categories, num_rows)"
   ]
  },
  {
   "cell_type": "code",
   "execution_count": 7,
   "id": "9ee7e60f-2506-453a-ae10-edfb70394022",
   "metadata": {},
   "outputs": [],
   "source": [
    "# Generate random prices, quantity, and total spending (with outliers)\n",
    "prices = np.round(np.random.uniform(5, 2000, num_rows), 2)\n",
    "quantities = np.random.randint(1, 5, num_rows)\n",
    "total_spending = np.round(prices * quantities, 2)"
   ]
  },
  {
   "cell_type": "code",
   "execution_count": 8,
   "id": "cf7b0f84-b860-4c70-9331-36ec98fa19b3",
   "metadata": {},
   "outputs": [],
   "source": [
    "# Introduce some outliers in price and total spending\n",
    "outlier_indices = np.random.choice(num_rows, size=500, replace=False)\n",
    "prices[outlier_indices] *= 10  # Extreme high values\n",
    "total_spending[outlier_indices] *= 10"
   ]
  },
  {
   "cell_type": "code",
   "execution_count": 9,
   "id": "66342079-b03c-4f90-a3f8-3fc6c7bc5456",
   "metadata": {},
   "outputs": [],
   "source": [
    "# Payment Methods\n",
    "payment_methods = [\"Credit Card\", \"Debit Card\", \"PayPal\"]\n",
    "payment_choices = np.random.choice(payment_methods, num_rows)"
   ]
  },
  {
   "cell_type": "code",
   "execution_count": 10,
   "id": "b710a322-61b6-4b78-8309-f4abd779af7a",
   "metadata": {},
   "outputs": [],
   "source": [
    "# Store Locations (Cities)\n",
    "store_locations = [\"New York\", \"Los Angeles\", \"Chicago\", \"Houston\", \"Miami\", \"Seattle\", \"San Francisco\", \"Boston\"]\n",
    "store_choices = np.random.choice(store_locations, num_rows)"
   ]
  },
  {
   "cell_type": "code",
   "execution_count": 11,
   "id": "e30773c7-613e-473a-b58f-1914ed116d74",
   "metadata": {},
   "outputs": [],
   "source": [
    "# Device Used\n",
    "devices = [\"Mobile\", \"Desktop\"]\n",
    "device_choices = np.random.choice(devices, num_rows)"
   ]
  },
  {
   "cell_type": "code",
   "execution_count": 12,
   "id": "9cf5528d-bf16-4374-ae47-c7a0ae63917f",
   "metadata": {},
   "outputs": [],
   "source": [
    "# Discounts Applied (some missing values)\n",
    "discount_applied = np.random.choice([0, 5, 10, 20, np.nan], num_rows)"
   ]
  },
  {
   "cell_type": "code",
   "execution_count": 13,
   "id": "c9db4a1d-81c0-47a3-85a1-9864bd6abf58",
   "metadata": {},
   "outputs": [],
   "source": [
    "# Customer Demographics (Age, Gender, Income with some missing values)\n",
    "ages = np.random.randint(18, 75, num_rows)\n",
    "genders = np.random.choice([\"Male\", \"Female\", \"Non-Binary\"], num_rows)\n",
    "incomes = np.random.choice([35000, 50000, 75000, 100000, 125000, np.nan], num_rows)"
   ]
  },
  {
   "cell_type": "code",
   "execution_count": 14,
   "id": "f7e338a5-07ac-474c-a1e3-26207abb046c",
   "metadata": {},
   "outputs": [],
   "source": [
    "# Membership Level\n",
    "membership_levels = [\"Bronze\", \"Silver\", \"Gold\", \"Platinum\"]\n",
    "memberships = np.random.choice(membership_levels, num_rows)"
   ]
  },
  {
   "cell_type": "code",
   "execution_count": 15,
   "id": "65334c38-baee-401a-aafc-2e2c2913dca6",
   "metadata": {},
   "outputs": [],
   "source": [
    "# Ratings (with some missing values)\n",
    "ratings = np.random.choice([1, 2, 3, 4, 5, np.nan], num_rows)"
   ]
  },
  {
   "cell_type": "code",
   "execution_count": 16,
   "id": "3a479d5d-b3ff-4d8a-afd7-921f1a273613",
   "metadata": {},
   "outputs": [],
   "source": [
    "# Return Flag (Yes/No)\n",
    "return_flag = np.random.choice([\"Yes\", \"No\"], num_rows, p=[0.1, 0.9])"
   ]
  },
  {
   "cell_type": "code",
   "execution_count": 17,
   "id": "b8a8da8a-1b48-44a0-9e93-38ab6fd39f9b",
   "metadata": {},
   "outputs": [],
   "source": [
    "# Create the DataFrame\n",
    "df = pd.DataFrame({\n",
    "    \"Transaction_ID\": [f'TXN{str(i).zfill(6)}' for i in range(num_rows)],\n",
    "    \"Customer_ID\": customer_ids,\n",
    "    \"Transaction_Date\": transaction_dates,\n",
    "    \"Product_ID\": product_ids,\n",
    "    \"Product_Name\": product_names,\n",
    "    \"Category\": product_categories,\n",
    "    \"Price\": prices,\n",
    "    \"Quantity\": quantities,\n",
    "    \"Total_Spending\": total_spending,\n",
    "    \"Payment_Method\": payment_choices,\n",
    "    \"Store_Location\": store_choices,\n",
    "    \"Device_Used\": device_choices,\n",
    "    \"Discount_Applied\": discount_applied,\n",
    "    \"Customer_Age\": ages,\n",
    "    \"Customer_Gender\": genders,\n",
    "    \"Customer_Income\": incomes,\n",
    "    \"Membership_Level\": memberships,\n",
    "    \"Rating\": ratings,\n",
    "    \"Return_Flag\": return_flag\n",
    "})"
   ]
  },
  {
   "cell_type": "code",
   "execution_count": 18,
   "id": "8627cbdc-912b-4a3b-aae3-606f5100d2c2",
   "metadata": {},
   "outputs": [],
   "source": [
    "# Introduce duplicate rows (around 1% of data)\n",
    "duplicate_indices = np.random.choice(num_rows, size=int(num_rows * 0.01), replace=False)\n",
    "df = pd.concat([df, df.iloc[duplicate_indices]], ignore_index=True)"
   ]
  },
  {
   "cell_type": "code",
   "execution_count": 19,
   "id": "b4744164-c691-4c90-9826-3ac5f34c68e6",
   "metadata": {},
   "outputs": [
    {
     "name": "stderr",
     "output_type": "stream",
     "text": [
      "C:\\Users\\anish\\AppData\\Local\\Temp\\ipykernel_17284\\1338660909.py:3: FutureWarning: The behavior of DataFrame concatenation with empty or all-NA entries is deprecated. In a future version, this will no longer exclude empty or all-NA columns when determining the result dtypes. To retain the old behavior, exclude the relevant entries before the concat operation.\n",
      "  df = pd.concat([df, missing_rows], ignore_index=True)\n"
     ]
    }
   ],
   "source": [
    "# Introduce some completely missing rows (simulating corruption)\n",
    "missing_rows = pd.DataFrame(np.nan, index=range(500), columns=df.columns)\n",
    "df = pd.concat([df, missing_rows], ignore_index=True)"
   ]
  },
  {
   "cell_type": "code",
   "execution_count": 20,
   "id": "ae93c2fd-7610-44f7-94ca-a48cd95f9bc4",
   "metadata": {},
   "outputs": [],
   "source": [
    "# Shuffle the dataset\n",
    "df = df.sample(frac=1).reset_index(drop=True)"
   ]
  },
  {
   "cell_type": "code",
   "execution_count": 21,
   "id": "bcdd2713-51e3-4414-a415-5fc7bfcd159b",
   "metadata": {},
   "outputs": [],
   "source": [
    "# Save dataset\n",
    "df.to_csv(\"raw_customer_transactions.csv\", index=False)"
   ]
  },
  {
   "cell_type": "code",
   "execution_count": 22,
   "id": "a6fa0824-fb6b-483c-b22e-360d023ddf20",
   "metadata": {},
   "outputs": [
    {
     "name": "stdout",
     "output_type": "stream",
     "text": [
      "Dataset Generated: 101500 rows x 19 columns\n"
     ]
    }
   ],
   "source": [
    "# Display dataset info\n",
    "print(f\"Dataset Generated: {df.shape[0]} rows x {df.shape[1]} columns\")"
   ]
  },
  {
   "cell_type": "code",
   "execution_count": 23,
   "id": "c894c0ac-8013-4f85-bfe9-f127d86d08c0",
   "metadata": {},
   "outputs": [
    {
     "name": "stdout",
     "output_type": "stream",
     "text": [
      "Sample Data:\n",
      "  Transaction_ID Customer_ID Transaction_Date Product_ID Product_Name  \\\n",
      "0      TXN024193   CUST04559       2022-10-25      P0091   Product_43   \n",
      "1      TXN078061   CUST00473       2021-04-01      P0053   Product_37   \n",
      "2      TXN069931   CUST01195       2021-03-25      P0193   Product_26   \n",
      "3      TXN035588   CUST03417       2023-06-23      P0114  Product_140   \n",
      "4      TXN089008   CUST02386       2021-06-27      P0167  Product_175   \n",
      "\n",
      "         Category    Price  Quantity  Total_Spending Payment_Method  \\\n",
      "0          Sports   120.05       2.0          240.10     Debit Card   \n",
      "1  Home & Kitchen  1099.19       4.0         4396.76         PayPal   \n",
      "2          Beauty  1705.50       2.0         3411.00    Credit Card   \n",
      "3     Electronics  1287.81       2.0         2575.62    Credit Card   \n",
      "4         Fashion  1096.35       4.0         4385.40    Credit Card   \n",
      "\n",
      "  Store_Location Device_Used  Discount_Applied  Customer_Age Customer_Gender  \\\n",
      "0    Los Angeles     Desktop               0.0          32.0      Non-Binary   \n",
      "1        Chicago     Desktop              10.0          42.0      Non-Binary   \n",
      "2          Miami     Desktop               0.0          30.0      Non-Binary   \n",
      "3       New York      Mobile               5.0          39.0          Female   \n",
      "4        Houston      Mobile               5.0          35.0            Male   \n",
      "\n",
      "   Customer_Income Membership_Level  Rating Return_Flag  \n",
      "0              NaN           Silver     5.0          No  \n",
      "1         125000.0             Gold     NaN          No  \n",
      "2         100000.0         Platinum     3.0          No  \n",
      "3          75000.0           Bronze     2.0          No  \n",
      "4          35000.0           Silver     NaN          No  \n"
     ]
    }
   ],
   "source": [
    "#First 5 rows of the dataset\n",
    "print(\"Sample Data:\")\n",
    "print(df.head())"
   ]
  },
  {
   "cell_type": "code",
   "execution_count": 24,
   "id": "4ce5089c-cc2f-4e9b-97b5-81f224f59e7c",
   "metadata": {},
   "outputs": [
    {
     "name": "stdout",
     "output_type": "stream",
     "text": [
      "                    Transaction_Date          Price       Quantity  \\\n",
      "count                         101000  101000.000000  101000.000000   \n",
      "mean   2022-07-01 20:17:37.615841792    1045.414078       2.500663   \n",
      "min              2021-01-01 00:00:00       5.060000       1.000000   \n",
      "25%              2021-10-01 00:00:00     508.067500       2.000000   \n",
      "50%              2022-07-02 00:00:00    1007.875000       2.000000   \n",
      "75%              2023-04-01 00:00:00    1506.360000       3.000000   \n",
      "max              2023-12-31 00:00:00   19865.000000       4.000000   \n",
      "std                              NaN     936.675556       1.117029   \n",
      "\n",
      "       Total_Spending  Discount_Applied   Customer_Age  Customer_Income  \\\n",
      "count   101000.000000      80884.000000  101000.000000     84149.000000   \n",
      "mean      2616.002295          8.740789      45.909921     76802.279290   \n",
      "min          5.080000          0.000000      18.000000     35000.000000   \n",
      "25%        969.020000          0.000000      31.000000     50000.000000   \n",
      "50%       1927.550000          5.000000      46.000000     75000.000000   \n",
      "75%       3714.075000         10.000000      60.000000    100000.000000   \n",
      "max      79365.200000         20.000000      74.000000    125000.000000   \n",
      "std       2848.979235          7.396696      16.500043     32612.280283   \n",
      "\n",
      "             Rating  \n",
      "count  84042.000000  \n",
      "mean       3.006830  \n",
      "min        1.000000  \n",
      "25%        2.000000  \n",
      "50%        3.000000  \n",
      "75%        4.000000  \n",
      "max        5.000000  \n",
      "std        1.411207  \n"
     ]
    }
   ],
   "source": [
    "#Summary statistics of the dataset\n",
    "print(df.describe())"
   ]
  },
  {
   "cell_type": "code",
   "execution_count": 25,
   "id": "2f8f1195-b44c-43ed-b22e-b336c38729dc",
   "metadata": {},
   "outputs": [
    {
     "name": "stdout",
     "output_type": "stream",
     "text": [
      "<class 'pandas.core.frame.DataFrame'>\n",
      "RangeIndex: 101500 entries, 0 to 101499\n",
      "Data columns (total 19 columns):\n",
      " #   Column            Non-Null Count   Dtype         \n",
      "---  ------            --------------   -----         \n",
      " 0   Transaction_ID    101000 non-null  object        \n",
      " 1   Customer_ID       101000 non-null  object        \n",
      " 2   Transaction_Date  101000 non-null  datetime64[ns]\n",
      " 3   Product_ID        101000 non-null  object        \n",
      " 4   Product_Name      101000 non-null  object        \n",
      " 5   Category          101000 non-null  object        \n",
      " 6   Price             101000 non-null  float64       \n",
      " 7   Quantity          101000 non-null  float64       \n",
      " 8   Total_Spending    101000 non-null  float64       \n",
      " 9   Payment_Method    101000 non-null  object        \n",
      " 10  Store_Location    101000 non-null  object        \n",
      " 11  Device_Used       101000 non-null  object        \n",
      " 12  Discount_Applied  80884 non-null   float64       \n",
      " 13  Customer_Age      101000 non-null  float64       \n",
      " 14  Customer_Gender   101000 non-null  object        \n",
      " 15  Customer_Income   84149 non-null   float64       \n",
      " 16  Membership_Level  101000 non-null  object        \n",
      " 17  Rating            84042 non-null   float64       \n",
      " 18  Return_Flag       101000 non-null  object        \n",
      "dtypes: datetime64[ns](1), float64(7), object(11)\n",
      "memory usage: 14.7+ MB\n",
      "None\n"
     ]
    }
   ],
   "source": [
    "#Concise summary of the dataset\n",
    "print(df.info())"
   ]
  },
  {
   "cell_type": "markdown",
   "id": "b4478c96-409a-488b-aa31-5444340b3135",
   "metadata": {},
   "source": [
    "# --------------------------------------------------------------------------"
   ]
  },
  {
   "cell_type": "markdown",
   "id": "ac701931-95b6-477a-925b-dd291b5f715a",
   "metadata": {},
   "source": [
    "## 2. Perform Data Cleaning using PySpark"
   ]
  },
  {
   "cell_type": "code",
   "execution_count": 26,
   "id": "a0b1d175-15f5-41ac-8c58-2a255cb03711",
   "metadata": {},
   "outputs": [],
   "source": [
    "# Import necessary libraries\n",
    "from pyspark.sql import SparkSession\n",
    "from pyspark.sql.functions import col, count, when, isnan, mean, stddev, round\n",
    "from pyspark.sql.types import IntegerType, DoubleType, StringType, DateType"
   ]
  },
  {
   "cell_type": "code",
   "execution_count": 27,
   "id": "30cbf6af-cb4b-4206-8dec-80bb8fc6680e",
   "metadata": {},
   "outputs": [],
   "source": [
    "# 1: Create Spark Session\n",
    "spark = SparkSession.builder.appName(\"CustomerTransactionCleaning\").getOrCreate()"
   ]
  },
  {
   "cell_type": "code",
   "execution_count": 28,
   "id": "82070b93-92dd-41ea-beab-3576d5ea22ae",
   "metadata": {},
   "outputs": [],
   "source": [
    "# 2: Load the raw dataset\n",
    "file_path = \"raw_customer_transactions.csv\"  # Update with your actual path\n",
    "df_raw = spark.read.csv(file_path, header=True, inferSchema=True)"
   ]
  },
  {
   "cell_type": "code",
   "execution_count": 29,
   "id": "e77df964-2da4-438c-b30f-d8f922202f8f",
   "metadata": {},
   "outputs": [
    {
     "name": "stdout",
     "output_type": "stream",
     "text": [
      "Initial Data Preview:\n",
      "+--------------+-----------+----------------+----------+------------+--------------+-------+--------+--------------+--------------+--------------+-----------+----------------+------------+---------------+---------------+----------------+------+-----------+\n",
      "|Transaction_ID|Customer_ID|Transaction_Date|Product_ID|Product_Name|      Category|  Price|Quantity|Total_Spending|Payment_Method|Store_Location|Device_Used|Discount_Applied|Customer_Age|Customer_Gender|Customer_Income|Membership_Level|Rating|Return_Flag|\n",
      "+--------------+-----------+----------------+----------+------------+--------------+-------+--------+--------------+--------------+--------------+-----------+----------------+------------+---------------+---------------+----------------+------+-----------+\n",
      "|     TXN024193|  CUST04559|      2022-10-25|     P0091|  Product_43|        Sports| 120.05|     2.0|         240.1|    Debit Card|   Los Angeles|    Desktop|             0.0|        32.0|     Non-Binary|           NULL|          Silver|   5.0|         No|\n",
      "|     TXN078061|  CUST00473|      2021-04-01|     P0053|  Product_37|Home & Kitchen|1099.19|     4.0|       4396.76|        PayPal|       Chicago|    Desktop|            10.0|        42.0|     Non-Binary|       125000.0|            Gold|  NULL|         No|\n",
      "|     TXN069931|  CUST01195|      2021-03-25|     P0193|  Product_26|        Beauty| 1705.5|     2.0|        3411.0|   Credit Card|         Miami|    Desktop|             0.0|        30.0|     Non-Binary|       100000.0|        Platinum|   3.0|         No|\n",
      "|     TXN035588|  CUST03417|      2023-06-23|     P0114| Product_140|   Electronics|1287.81|     2.0|       2575.62|   Credit Card|      New York|     Mobile|             5.0|        39.0|         Female|        75000.0|          Bronze|   2.0|         No|\n",
      "|     TXN089008|  CUST02386|      2021-06-27|     P0167| Product_175|       Fashion|1096.35|     4.0|        4385.4|   Credit Card|       Houston|     Mobile|             5.0|        35.0|           Male|        35000.0|          Silver|  NULL|         No|\n",
      "+--------------+-----------+----------------+----------+------------+--------------+-------+--------+--------------+--------------+--------------+-----------+----------------+------------+---------------+---------------+----------------+------+-----------+\n",
      "only showing top 5 rows\n",
      "\n"
     ]
    }
   ],
   "source": [
    "# 3: Display raw data\n",
    "print(\"Initial Data Preview:\")\n",
    "df_raw.show(5)"
   ]
  },
  {
   "cell_type": "code",
   "execution_count": 30,
   "id": "8d9b63a4-e25f-40c9-b787-79f4004b8e73",
   "metadata": {},
   "outputs": [
    {
     "name": "stdout",
     "output_type": "stream",
     "text": [
      "Initial Schema:\n",
      "root\n",
      " |-- Transaction_ID: string (nullable = true)\n",
      " |-- Customer_ID: string (nullable = true)\n",
      " |-- Transaction_Date: date (nullable = true)\n",
      " |-- Product_ID: string (nullable = true)\n",
      " |-- Product_Name: string (nullable = true)\n",
      " |-- Category: string (nullable = true)\n",
      " |-- Price: double (nullable = true)\n",
      " |-- Quantity: double (nullable = true)\n",
      " |-- Total_Spending: double (nullable = true)\n",
      " |-- Payment_Method: string (nullable = true)\n",
      " |-- Store_Location: string (nullable = true)\n",
      " |-- Device_Used: string (nullable = true)\n",
      " |-- Discount_Applied: double (nullable = true)\n",
      " |-- Customer_Age: double (nullable = true)\n",
      " |-- Customer_Gender: string (nullable = true)\n",
      " |-- Customer_Income: double (nullable = true)\n",
      " |-- Membership_Level: string (nullable = true)\n",
      " |-- Rating: double (nullable = true)\n",
      " |-- Return_Flag: string (nullable = true)\n",
      "\n"
     ]
    }
   ],
   "source": [
    "# 4: Check schema (Data Types)\n",
    "print(\"Initial Schema:\")\n",
    "df_raw.printSchema()"
   ]
  },
  {
   "cell_type": "code",
   "execution_count": 31,
   "id": "cf728c43-e9fe-48ee-bc3b-47ddcc55e99a",
   "metadata": {},
   "outputs": [
    {
     "name": "stdout",
     "output_type": "stream",
     "text": [
      "Duplicate Rows Removed.\n"
     ]
    }
   ],
   "source": [
    "# 5: Remove Duplicate Rows\n",
    "df_cleaned = df_raw.dropDuplicates()\n",
    "print(\"Duplicate Rows Removed.\")"
   ]
  },
  {
   "cell_type": "code",
   "execution_count": 7,
   "id": "9f165689-ffd5-4a6e-9549-f64c03a3eab0",
   "metadata": {},
   "outputs": [],
   "source": [
    "# 6: Handle Missing Values"
   ]
  },
  {
   "cell_type": "code",
   "execution_count": 32,
   "id": "a4a37a09-f467-44fc-9431-9dd01233ebe1",
   "metadata": {},
   "outputs": [
    {
     "name": "stdout",
     "output_type": "stream",
     "text": [
      "Missing Values Count:\n",
      "+--------------+-----------+----------------+----------+------------+--------+-----+--------+--------------+--------------+--------------+-----------+----------------+------------+---------------+---------------+----------------+------+-----------+\n",
      "|Transaction_ID|Customer_ID|Transaction_Date|Product_ID|Product_Name|Category|Price|Quantity|Total_Spending|Payment_Method|Store_Location|Device_Used|Discount_Applied|Customer_Age|Customer_Gender|Customer_Income|Membership_Level|Rating|Return_Flag|\n",
      "+--------------+-----------+----------------+----------+------------+--------+-----+--------+--------------+--------------+--------------+-----------+----------------+------------+---------------+---------------+----------------+------+-----------+\n",
      "|             1|          1|               1|         1|           1|       1|    1|       1|             1|             1|             1|          1|           19913|           1|              1|          16685|               1| 16797|          1|\n",
      "+--------------+-----------+----------------+----------+------------+--------+-----+--------+--------------+--------------+--------------+-----------+----------------+------------+---------------+---------------+----------------+------+-----------+\n",
      "\n"
     ]
    }
   ],
   "source": [
    "# Check missing values in each column\n",
    "print(\"Missing Values Count:\")\n",
    "df_cleaned.select([count(when(col(c).isNull(), c)).alias(c) for c in df.columns]).show()"
   ]
  },
  {
   "cell_type": "code",
   "execution_count": 33,
   "id": "0fe80e11-e640-4679-b20b-11ca08758908",
   "metadata": {},
   "outputs": [
    {
     "name": "stdout",
     "output_type": "stream",
     "text": [
      "Dropped Rows with Critical Missing Values.\n"
     ]
    }
   ],
   "source": [
    "# Drop rows where most critical columns are missing (Transaction_ID, Customer_ID, Product_ID)\n",
    "df_cleaned = df_cleaned.dropna(subset=[\"Transaction_ID\", \"Customer_ID\", \"Product_ID\"])\n",
    "print(\"Dropped Rows with Critical Missing Values.\")"
   ]
  },
  {
   "cell_type": "code",
   "execution_count": 34,
   "id": "599e1d1c-a637-4c28-8bef-ec57cc51f967",
   "metadata": {},
   "outputs": [],
   "source": [
    "# Fill missing values in categorical columns with \"Unknown\"\n",
    "df_cleaned = df_cleaned.fillna({\"Payment_Method\": \"Unknown\", \"Store_Location\": \"Unknown\", \"Device_Used\": \"Unknown\"})"
   ]
  },
  {
   "cell_type": "code",
   "execution_count": 35,
   "id": "f826ec9e-4486-4d27-848a-9c9fcfcf3739",
   "metadata": {},
   "outputs": [
    {
     "name": "stdout",
     "output_type": "stream",
     "text": [
      "Missing Values Handled.\n"
     ]
    }
   ],
   "source": [
    "# Fill missing values in numeric columns with mean or default values\n",
    "df_cleaned = df_cleaned.fillna({\"Customer_Age\": df_cleaned.select(mean(col(\"Customer_Age\"))).collect()[0][0],\n",
    "                \"Customer_Income\": df_cleaned.select(mean(col(\"Customer_Income\"))).collect()[0][0],\n",
    "                \"Discount_Applied\": 0,\n",
    "                \"Rating\": 3.0})  # Default rating set to 3.0\n",
    "print(\"Missing Values Handled.\")"
   ]
  },
  {
   "cell_type": "code",
   "execution_count": 36,
   "id": "1e86aa14-508d-4d46-8477-58f1e04436ef",
   "metadata": {},
   "outputs": [],
   "source": [
    "# 7: Detect & Remove Outliers in Price and Total Spending"
   ]
  },
  {
   "cell_type": "code",
   "execution_count": 37,
   "id": "1da809f4-9756-451d-b60c-9fee1e7322ec",
   "metadata": {},
   "outputs": [],
   "source": [
    "# Calculate mean and standard deviation for detecting outliers\n",
    "stats_df = df_cleaned.select(\n",
    "    mean(col(\"Price\")).alias(\"mean_price\"), stddev(col(\"Price\")).alias(\"std_price\"),\n",
    "    mean(col(\"Total_Spending\")).alias(\"mean_spending\"), stddev(col(\"Total_Spending\")).alias(\"std_spending\")\n",
    ").collect()\n",
    "\n",
    "mean_price, std_price = stats_df[0][\"mean_price\"], stats_df[0][\"std_price\"]\n",
    "mean_spending, std_spending = stats_df[0][\"mean_spending\"], stats_df[0][\"std_spending\"]"
   ]
  },
  {
   "cell_type": "code",
   "execution_count": 38,
   "id": "0401c30c-49ad-472a-ad25-37f920fd8cf9",
   "metadata": {},
   "outputs": [
    {
     "name": "stdout",
     "output_type": "stream",
     "text": [
      "Outliers Removed.\n"
     ]
    }
   ],
   "source": [
    "# Apply Z-score method: Remove rows where values are greater than 3 standard deviations from the mean\n",
    "df_cleaned = df_cleaned.filter((col(\"Price\") <= mean_price + 3 * std_price) & (col(\"Total_Spending\") <= mean_spending + 3 * std_spending))\n",
    "\n",
    "print(\"Outliers Removed.\")"
   ]
  },
  {
   "cell_type": "code",
   "execution_count": 39,
   "id": "db495c83-43b4-4982-beeb-fd1213ac60fe",
   "metadata": {},
   "outputs": [],
   "source": [
    "# 8: Fix Data Types"
   ]
  },
  {
   "cell_type": "code",
   "execution_count": 40,
   "id": "806de27f-539b-44b9-b2f0-4420fb4110f3",
   "metadata": {},
   "outputs": [],
   "source": [
    "# Convert Transaction_Date to DateType\n",
    "df_cleaned = df_cleaned.withColumn(\"Transaction_Date\", col(\"Transaction_Date\").cast(DateType()))"
   ]
  },
  {
   "cell_type": "code",
   "execution_count": 41,
   "id": "9160c7aa-74b4-4be7-ac67-5d448c84528a",
   "metadata": {},
   "outputs": [
    {
     "name": "stdout",
     "output_type": "stream",
     "text": [
      "Data Types Fixed.\n"
     ]
    }
   ],
   "source": [
    "# Convert Numeric Columns to proper types\n",
    "df_cleaned = df_cleaned.withColumn(\"Customer_Age\", col(\"Customer_Age\").cast(IntegerType()))\n",
    "df_cleaned = df_cleaned.withColumn(\"Price\", col(\"Price\").cast(DoubleType()))\n",
    "df_cleaned = df_cleaned.withColumn(\"Total_Spending\", col(\"Total_Spending\").cast(DoubleType()))\n",
    "df_cleaned = df_cleaned.withColumn(\"Discount_Applied\", col(\"Discount_Applied\").cast(DoubleType()))\n",
    "\n",
    "print(\"Data Types Fixed.\")"
   ]
  },
  {
   "cell_type": "code",
   "execution_count": 42,
   "id": "92780c52-7354-4bdf-832b-24bc0175b265",
   "metadata": {},
   "outputs": [],
   "source": [
    "# 9: Standardize Categorical Values"
   ]
  },
  {
   "cell_type": "code",
   "execution_count": 43,
   "id": "cc29567b-bc8c-4f82-a840-ae35bb5d10f9",
   "metadata": {},
   "outputs": [],
   "source": [
    "# Ensure consistency in Payment Method\n",
    "df_cleaned = df_cleaned.withColumn(\"Payment_Method\",\n",
    "                   when(col(\"Payment_Method\").like(\"%Card%\"), \"Card\")\n",
    "                   .when(col(\"Payment_Method\") == \"PayPal\", \"PayPal\")\n",
    "                   .otherwise(\"Other\"))"
   ]
  },
  {
   "cell_type": "code",
   "execution_count": 44,
   "id": "c90aa43d-6508-4451-9583-d07c3d210851",
   "metadata": {},
   "outputs": [],
   "source": [
    "# Ensure consistency in Store Location (Title Case Format)\n",
    "df_cleaned = df_cleaned.withColumn(\"Store_Location\", col(\"Store_Location\").alias(\"Store_Location\").cast(StringType()))"
   ]
  },
  {
   "cell_type": "code",
   "execution_count": 45,
   "id": "861b4897-9ed8-40bf-b167-4a748914c4df",
   "metadata": {},
   "outputs": [],
   "source": [
    "# Ensure Device Used values are consistent\n",
    "df_cleaned = df_cleaned.withColumn(\"Device_Used\",\n",
    "                   when(col(\"Device_Used\") == \"Mobile\", \"Mobile\")\n",
    "                   .when(col(\"Device_Used\") == \"Desktop\", \"Desktop\")\n",
    "                   .otherwise(\"Unknown\"))"
   ]
  },
  {
   "cell_type": "code",
   "execution_count": 46,
   "id": "6a424990-4fa4-4f1e-b455-613575d8abcf",
   "metadata": {},
   "outputs": [
    {
     "name": "stdout",
     "output_type": "stream",
     "text": [
      "Categorical Values Standardized.\n"
     ]
    }
   ],
   "source": [
    "print(\"Categorical Values Standardized.\")"
   ]
  },
  {
   "cell_type": "code",
   "execution_count": 48,
   "id": "faf0db60-f77e-4ac9-ade1-bf2262cd7bcb",
   "metadata": {},
   "outputs": [
    {
     "name": "stdout",
     "output_type": "stream",
     "text": [
      "Data Cleaning Complete!\n"
     ]
    }
   ],
   "source": [
    "# 10: Save Cleaned Dataset\n",
    "output_path = \"cleaned_customer_transactions.csv\"\n",
    "df_cleaned.write.mode(\"overwrite\").csv(output_path, header=True)\n",
    "\n",
    "print(\"Data Cleaning Complete!\")"
   ]
  },
  {
   "cell_type": "markdown",
   "id": "20997252-1ba1-4630-89f7-c263d3423b3d",
   "metadata": {},
   "source": [
    "# ------------------------------------------------------------------"
   ]
  },
  {
   "cell_type": "markdown",
   "id": "266fd4e2-12ff-42a9-9f7c-b105ef9457ee",
   "metadata": {},
   "source": [
    "## 3. Exploratory Data Analysis (EDA) using PySpark"
   ]
  },
  {
   "cell_type": "markdown",
   "id": "46208423-2d0d-4379-8339-28605f6bd6ee",
   "metadata": {},
   "source": [
    "### Key EDA Steps\n",
    "### 1. Load the Cleaned Dataset into PySpark\n",
    "### 2. Check Summary Statistics\n",
    "### 3. Analyze Customer Demographics (Age, Gender, Income)\n",
    "### 4. Identify Top-Selling Products & Categories\n",
    "### 5. Analyze Purchase Behavior (Spending Trends, Seasonal Trends)\n",
    "### 6. Identify Most Popular Payment Methods\n",
    "### 7. Analyze Customer Loyalty & Returns\n",
    "### 8. Save Processed Data for Tableau"
   ]
  },
  {
   "cell_type": "code",
   "execution_count": 49,
   "id": "af0152d2-05db-489a-99da-7e6848a7a9d3",
   "metadata": {},
   "outputs": [],
   "source": [
    "# Import necessary libraries\n",
    "from pyspark.sql import SparkSession\n",
    "from pyspark.sql.functions import col, count, avg, sum, min, max, round, year, month, dayofweek, desc"
   ]
  },
  {
   "cell_type": "code",
   "execution_count": 50,
   "id": "b9e7a21a-5f6f-4c47-97dd-403b09ddf6de",
   "metadata": {},
   "outputs": [],
   "source": [
    "# 1: Create Spark Session\n",
    "spark = SparkSession.builder.appName(\"CustomerTransactionEDA\").getOrCreate()"
   ]
  },
  {
   "cell_type": "code",
   "execution_count": 53,
   "id": "567b15b4-1fc5-4a12-bff0-dfee01a9a1ec",
   "metadata": {},
   "outputs": [],
   "source": [
    "# 2: Load the Cleaned Dataset\n",
    "file_path = \"cleaned_customer_transactions.csv\"  # Update path if needed\n",
    "df_cleaned = spark.read.csv(file_path, header=True, inferSchema=True)"
   ]
  },
  {
   "cell_type": "code",
   "execution_count": 54,
   "id": "4abef516-791c-4fdf-9f7a-bd95761cb62d",
   "metadata": {},
   "outputs": [
    {
     "name": "stdout",
     "output_type": "stream",
     "text": [
      "Summary Statistics:\n",
      "+-------+--------------+-----------+----------+------------+--------+------------------+------------------+-----------------+--------------+--------------+-----------+-----------------+------------------+---------------+------------------+----------------+------------------+-----------+\n",
      "|summary|Transaction_ID|Customer_ID|Product_ID|Product_Name|Category|             Price|          Quantity|   Total_Spending|Payment_Method|Store_Location|Device_Used| Discount_Applied|      Customer_Age|Customer_Gender|   Customer_Income|Membership_Level|            Rating|Return_Flag|\n",
      "+-------+--------------+-----------+----------+------------+--------+------------------+------------------+-----------------+--------------+--------------+-----------+-----------------+------------------+---------------+------------------+----------------+------------------+-----------+\n",
      "|  count|         99601|      99601|     99601|       99601|   99601|             99601|             99601|            99601|         99601|         99601|      99601|            99601|             99601|          99601|             99601|           99601|             99601|      99601|\n",
      "|   mean|          NULL|       NULL|      NULL|        NULL|    NULL|1002.9659382937919| 2.500557223321051|2506.772034718526|          NULL|          NULL|       NULL|6.998724912400478|  45.9045893113523|           NULL| 76814.50171551484|            NULL|3.0057127940482524|       NULL|\n",
      "| stddev|          NULL|       NULL|      NULL|        NULL|    NULL| 576.6401172590523|1.1168309793728883|1939.441103414113|          NULL|          NULL|       NULL|7.482730343545437|16.503848374452712|           NULL|29766.308384027987|            NULL|1.2870912593290467|       NULL|\n",
      "|    min|     TXN000000|  CUST00001|     P0001|   Product_1|  Beauty|              5.06|               1.0|             5.08|          Card|        Boston|    Desktop|              0.0|                18|         Female|           35000.0|          Bronze|               1.0|         No|\n",
      "|    max|     TXN099999|  CUST04999|     P0199|  Product_99|    Toys|3598.6000000000004|               4.0|          10795.8|        PayPal|       Seattle|     Mobile|             20.0|                74|     Non-Binary|          125000.0|          Silver|               5.0|        Yes|\n",
      "+-------+--------------+-----------+----------+------------+--------+------------------+------------------+-----------------+--------------+--------------+-----------+-----------------+------------------+---------------+------------------+----------------+------------------+-----------+\n",
      "\n"
     ]
    }
   ],
   "source": [
    "# 3: Check Summary Statistics\n",
    "print(\"Summary Statistics:\")\n",
    "df_cleaned.describe().show()"
   ]
  },
  {
   "cell_type": "code",
   "execution_count": 55,
   "id": "36bb5887-33a9-41e1-800a-878dbaae87e2",
   "metadata": {},
   "outputs": [],
   "source": [
    "# 4: Analyze Customer Demographics"
   ]
  },
  {
   "cell_type": "code",
   "execution_count": 56,
   "id": "9697fcf4-96a2-465f-a8e1-408f91d1b36d",
   "metadata": {},
   "outputs": [
    {
     "name": "stdout",
     "output_type": "stream",
     "text": [
      "Gender Distribution:\n",
      "+---------------+-----+\n",
      "|Customer_Gender|count|\n",
      "+---------------+-----+\n",
      "|         Female|33333|\n",
      "|     Non-Binary|33266|\n",
      "|           Male|33002|\n",
      "+---------------+-----+\n",
      "\n"
     ]
    }
   ],
   "source": [
    "# 4.1 - Gender Distribution\n",
    "print(\"Gender Distribution:\")\n",
    "df_cleaned.groupBy(\"Customer_Gender\").count().show()"
   ]
  },
  {
   "cell_type": "code",
   "execution_count": 57,
   "id": "fa354fc0-1143-4f77-b9c1-547de8869d62",
   "metadata": {},
   "outputs": [
    {
     "name": "stdout",
     "output_type": "stream",
     "text": [
      "Customer Age Distribution:\n",
      "+-------+-------+-------+\n",
      "|Min_Age|Max_Age|Avg_Age|\n",
      "+-------+-------+-------+\n",
      "|     18|     74|   45.9|\n",
      "+-------+-------+-------+\n",
      "\n"
     ]
    }
   ],
   "source": [
    "# 4.2 - Age Distribution (Min, Max, Avg Age)\n",
    "print(\"Customer Age Distribution:\")\n",
    "df_cleaned.select(min(\"Customer_Age\").alias(\"Min_Age\"),\n",
    "          max(\"Customer_Age\").alias(\"Max_Age\"),\n",
    "          round(avg(\"Customer_Age\"), 2).alias(\"Avg_Age\")).show()"
   ]
  },
  {
   "cell_type": "code",
   "execution_count": 58,
   "id": "a23b033f-8fea-41a0-848b-3d413ba10b36",
   "metadata": {},
   "outputs": [
    {
     "name": "stdout",
     "output_type": "stream",
     "text": [
      "Customer Income Distribution:\n",
      "+----------+----------+----------+\n",
      "|Min_Income|Max_Income|Avg_Income|\n",
      "+----------+----------+----------+\n",
      "|   35000.0|  125000.0|   76814.5|\n",
      "+----------+----------+----------+\n",
      "\n"
     ]
    }
   ],
   "source": [
    "# 4.3 - Income Distribution\n",
    "print(\"Customer Income Distribution:\")\n",
    "df_cleaned.select(min(\"Customer_Income\").alias(\"Min_Income\"),\n",
    "          max(\"Customer_Income\").alias(\"Max_Income\"),\n",
    "          round(avg(\"Customer_Income\"), 2).alias(\"Avg_Income\")).show()"
   ]
  },
  {
   "cell_type": "code",
   "execution_count": 35,
   "id": "0927b992-365d-4635-b200-b7097cc608ac",
   "metadata": {},
   "outputs": [],
   "source": [
    "# 5: Identify Top-Selling Products & Categories"
   ]
  },
  {
   "cell_type": "code",
   "execution_count": 59,
   "id": "aab4dce2-2568-4a3c-bd72-6b8efaaa0d48",
   "metadata": {},
   "outputs": [
    {
     "name": "stdout",
     "output_type": "stream",
     "text": [
      "Top 10 Best-Selling Products:\n",
      "+------------+-----------+\n",
      "|Product_Name|Total_Sales|\n",
      "+------------+-----------+\n",
      "|  Product_75|     1398.0|\n",
      "| Product_109|     1394.0|\n",
      "| Product_131|     1383.0|\n",
      "| Product_157|     1383.0|\n",
      "|   Product_5|     1380.0|\n",
      "|  Product_56|     1360.0|\n",
      "|  Product_23|     1359.0|\n",
      "| Product_100|     1359.0|\n",
      "|  Product_40|     1358.0|\n",
      "| Product_168|     1354.0|\n",
      "+------------+-----------+\n",
      "\n"
     ]
    }
   ],
   "source": [
    "# 5.1 - Top 10 Best-Selling Products\n",
    "print(\"Top 10 Best-Selling Products:\")\n",
    "df_cleaned.groupBy(\"Product_Name\").agg(sum(\"Quantity\").alias(\"Total_Sales\")).orderBy(desc(\"Total_Sales\")).limit(10).show()"
   ]
  },
  {
   "cell_type": "code",
   "execution_count": 60,
   "id": "556a8b26-4ef1-434c-b967-33a5e4a17071",
   "metadata": {},
   "outputs": [
    {
     "name": "stdout",
     "output_type": "stream",
     "text": [
      "Top 5 Selling Categories:\n",
      "+--------+--------------------+\n",
      "|Category|             Revenue|\n",
      "+--------+--------------------+\n",
      "|   Books| 3.170098336999999E7|\n",
      "|  Sports|3.1395080310000006E7|\n",
      "|    Toys|3.1340617919999998E7|\n",
      "| Fashion|3.1163668700000003E7|\n",
      "|  Beauty|3.1092641989999987E7|\n",
      "+--------+--------------------+\n",
      "\n"
     ]
    }
   ],
   "source": [
    "# 5.2 - Top 5 Categories by Sales\n",
    "print(\"Top 5 Selling Categories:\")\n",
    "df_cleaned.groupBy(\"Category\").agg(sum(\"Total_Spending\").alias(\"Revenue\")).orderBy(desc(\"Revenue\")).limit(5).show()"
   ]
  },
  {
   "cell_type": "code",
   "execution_count": 61,
   "id": "f1c33d12-1c84-4b9b-8180-35609abb258c",
   "metadata": {},
   "outputs": [],
   "source": [
    "# 6: Analyze Spending Trends"
   ]
  },
  {
   "cell_type": "code",
   "execution_count": 62,
   "id": "d05b93dc-7a10-4897-ab80-19359a948954",
   "metadata": {},
   "outputs": [],
   "source": [
    "# 6.1 - Extract Year & Month from Transaction Date\n",
    "df_cleaned = df_cleaned.withColumn(\"Year\", year(col(\"Transaction_Date\")))\n",
    "df_cleaned = df_cleaned.withColumn(\"Month\", month(col(\"Transaction_Date\")))\n",
    "df_cleaned = df_cleaned.withColumn(\"DayOfWeek\", dayofweek(col(\"Transaction_Date\")))"
   ]
  },
  {
   "cell_type": "code",
   "execution_count": 63,
   "id": "aedd733a-eaa6-4375-9c1e-6d661eac52c8",
   "metadata": {},
   "outputs": [
    {
     "name": "stdout",
     "output_type": "stream",
     "text": [
      "Monthly Revenue Trend:\n",
      "+----+-----+------------------+\n",
      "|Year|Month|     Total_Revenue|\n",
      "+----+-----+------------------+\n",
      "|2021|    1| 7330861.019999998|\n",
      "|2021|    2| 6074106.340000001|\n",
      "|2021|    3| 7181260.759999999|\n",
      "|2021|    4| 6906106.129999999|\n",
      "|2021|    5|        7028190.74|\n",
      "|2021|    6| 6813093.960000001|\n",
      "|2021|    7| 6911987.379999999|\n",
      "|2021|    8|        7423091.41|\n",
      "|2021|    9| 6861929.680000002|\n",
      "|2021|   10|        6948917.85|\n",
      "|2021|   11|6833751.6400000015|\n",
      "|2021|   12|        7105894.59|\n",
      "|2022|    1| 7263985.239999999|\n",
      "|2022|    2| 6412023.220000001|\n",
      "|2022|    3| 6741133.839999999|\n",
      "|2022|    4| 6679685.179999998|\n",
      "|2022|    5| 7085262.269999998|\n",
      "|2022|    6| 6883431.459999998|\n",
      "|2022|    7| 6965235.079999998|\n",
      "|2022|    8| 7197912.459999999|\n",
      "+----+-----+------------------+\n",
      "only showing top 20 rows\n",
      "\n"
     ]
    }
   ],
   "source": [
    "# 6.2 - Monthly Revenue Trend\n",
    "print(\"Monthly Revenue Trend:\")\n",
    "df_cleaned.groupBy(\"Year\", \"Month\").agg(sum(\"Total_Spending\").alias(\"Total_Revenue\")).orderBy(\"Year\", \"Month\").show()"
   ]
  },
  {
   "cell_type": "code",
   "execution_count": 64,
   "id": "0ad7842f-810a-4e5d-92b8-f00ee5769de4",
   "metadata": {},
   "outputs": [
    {
     "name": "stdout",
     "output_type": "stream",
     "text": [
      "Sales by Day of the Week:\n",
      "+---------+--------------------+\n",
      "|DayOfWeek|             Revenue|\n",
      "+---------+--------------------+\n",
      "|        1|3.5607394550000004E7|\n",
      "|        2| 3.504182864000001E7|\n",
      "|        3|3.5534161010000005E7|\n",
      "|        4| 3.543113708999999E7|\n",
      "|        5|       3.617917648E7|\n",
      "|        6|       3.541600619E7|\n",
      "|        7|       3.646729747E7|\n",
      "+---------+--------------------+\n",
      "\n"
     ]
    }
   ],
   "source": [
    "# 6.3 - Sales by Day of the Week\n",
    "print(\"Sales by Day of the Week:\")\n",
    "df_cleaned.groupBy(\"DayOfWeek\").agg(sum(\"Total_Spending\").alias(\"Revenue\")).orderBy(\"DayOfWeek\").show()"
   ]
  },
  {
   "cell_type": "code",
   "execution_count": 65,
   "id": "be3a4230-c9cf-4cd3-b700-67dc30ba9298",
   "metadata": {},
   "outputs": [
    {
     "name": "stdout",
     "output_type": "stream",
     "text": [
      "Most Used Payment Methods:\n",
      "+--------------+-----------------+\n",
      "|Payment_Method|Transaction_Count|\n",
      "+--------------+-----------------+\n",
      "|          Card|            66213|\n",
      "|        PayPal|            33388|\n",
      "+--------------+-----------------+\n",
      "\n"
     ]
    }
   ],
   "source": [
    "# 7: Identify Most Popular Payment Methods\n",
    "print(\"Most Used Payment Methods:\")\n",
    "df_cleaned.groupBy(\"Payment_Method\").agg(count(\"*\").alias(\"Transaction_Count\")).orderBy(desc(\"Transaction_Count\")).show()"
   ]
  },
  {
   "cell_type": "code",
   "execution_count": 66,
   "id": "ddc35f4e-5148-4685-8c75-17868684a9fd",
   "metadata": {},
   "outputs": [],
   "source": [
    "# 8: Analyze Customer Loyalty & Returns"
   ]
  },
  {
   "cell_type": "code",
   "execution_count": 67,
   "id": "77b750c9-5c31-40aa-b03b-0e27a083d9c2",
   "metadata": {},
   "outputs": [
    {
     "name": "stdout",
     "output_type": "stream",
     "text": [
      "Top 10 Most Frequent Customers:\n",
      "+-----------+-----------------+\n",
      "|Customer_ID|Transaction_Count|\n",
      "+-----------+-----------------+\n",
      "|  CUST01059|               39|\n",
      "|  CUST04942|               39|\n",
      "|  CUST00865|               38|\n",
      "|  CUST04610|               37|\n",
      "|  CUST02946|               36|\n",
      "|  CUST00587|               36|\n",
      "|  CUST00992|               36|\n",
      "|  CUST01080|               35|\n",
      "|  CUST00725|               34|\n",
      "|  CUST02638|               34|\n",
      "+-----------+-----------------+\n",
      "\n"
     ]
    }
   ],
   "source": [
    "# 8.1 - Customer Loyalty: Number of Transactions Per Customer\n",
    "print(\"Top 10 Most Frequent Customers:\")\n",
    "df_cleaned.groupBy(\"Customer_ID\").agg(count(\"*\").alias(\"Transaction_Count\")).orderBy(desc(\"Transaction_Count\")).limit(10).show()"
   ]
  },
  {
   "cell_type": "code",
   "execution_count": 68,
   "id": "05ef9c71-9ff3-4481-b4b5-d9d0338b16ee",
   "metadata": {},
   "outputs": [
    {
     "name": "stdout",
     "output_type": "stream",
     "text": [
      "Return Rate Analysis:\n",
      "+-----------+-----+\n",
      "|Return_Flag|Count|\n",
      "+-----------+-----+\n",
      "|         No|89628|\n",
      "|        Yes| 9973|\n",
      "+-----------+-----+\n",
      "\n"
     ]
    }
   ],
   "source": [
    "# 8.2 - Return Rate Analysis\n",
    "print(\"Return Rate Analysis:\")\n",
    "df_cleaned.groupBy(\"Return_Flag\").agg(count(\"*\").alias(\"Count\")).show()"
   ]
  },
  {
   "cell_type": "code",
   "execution_count": 69,
   "id": "908dbeaa-103e-4079-a19a-e97bdb36c471",
   "metadata": {},
   "outputs": [],
   "source": [
    "# 9: Save Processed Data for Power BI/Tableau"
   ]
  },
  {
   "cell_type": "code",
   "execution_count": 70,
   "id": "3cf3fc4c-4781-4506-b539-a7e7adc2f761",
   "metadata": {},
   "outputs": [
    {
     "name": "stdout",
     "output_type": "stream",
     "text": [
      "Processed Data Saved for Tableau!\n"
     ]
    }
   ],
   "source": [
    "# Save revenue trends for Power BI/Tableau\n",
    "df_monthly_revenue = df_cleaned.groupBy(\"Year\", \"Month\").agg(sum(\"Total_Spending\").alias(\"Total_Revenue\")) \\\n",
    "  .orderBy(\"Year\", \"Month\") \\\n",
    "  .write.mode(\"overwrite\").csv(\"output_monthly_revenue.csv\", header=True)\n",
    "\n",
    "# Save product sales data\n",
    "df_product_sales = df_cleaned.groupBy(\"Product_Name\").agg(sum(\"Quantity\").alias(\"Total_Sales\")) \\\n",
    "  .orderBy(desc(\"Total_Sales\")) \\\n",
    "  .write.mode(\"overwrite\").csv(\"output_product_sales.csv\", header=True)\n",
    "\n",
    "# Save customer loyalty data\n",
    "df_customer_loyalty = df_cleaned.groupBy(\"Customer_ID\").agg(count(\"*\").alias(\"Transaction_Count\")) \\\n",
    "  .orderBy(desc(\"Transaction_Count\")) \\\n",
    "  .write.mode(\"overwrite\").csv(\"output_customer_loyalty.csv\", header=True)\n",
    "\n",
    "print(\"Processed Data Saved for Tableau!\")"
   ]
  },
  {
   "cell_type": "markdown",
   "id": "a62e726a-08e2-4781-824f-70ece28ff6d5",
   "metadata": {},
   "source": [
    "## ----------------------------------------------------------------------------"
   ]
  },
  {
   "cell_type": "markdown",
   "id": "34ff0084-d8ed-45d4-b272-7b55cfc4501a",
   "metadata": {},
   "source": [
    "## 4. Feature Engineering"
   ]
  },
  {
   "cell_type": "code",
   "execution_count": 1,
   "id": "b43dde0b-e7d9-495b-9232-2486c0911d49",
   "metadata": {},
   "outputs": [],
   "source": [
    "# Import necessary libraries\n",
    "from pyspark.sql import SparkSession\n",
    "from pyspark.sql.functions import col, sum, avg, count, percentile_approx, when, year, month, lit"
   ]
  },
  {
   "cell_type": "code",
   "execution_count": 2,
   "id": "200f4a18-1dcb-4a58-bdc9-51734670f530",
   "metadata": {},
   "outputs": [],
   "source": [
    "# 1: Create Spark Session\n",
    "spark = SparkSession.builder.appName(\"CustomerFeatureEngineering\").getOrCreate()"
   ]
  },
  {
   "cell_type": "code",
   "execution_count": 3,
   "id": "d7637ec9-e6e9-486f-a2ee-fc2b67f3e087",
   "metadata": {},
   "outputs": [],
   "source": [
    "# 2: Load the Cleaned Dataset\n",
    "file_path = \"cleaned_dataset.csv\"  # Update path if needed\n",
    "df = spark.read.csv(file_path, header=True, inferSchema=True)"
   ]
  },
  {
   "cell_type": "code",
   "execution_count": 4,
   "id": "ddb2d69c-2856-4c44-9a3f-ce8f7e5a66c4",
   "metadata": {},
   "outputs": [
    {
     "name": "stdout",
     "output_type": "stream",
     "text": [
      "Calculating Customer Lifetime Value (CLV)...\n",
      "+-----------+-----------------------+\n",
      "|Customer_ID|Customer_Lifetime_Value|\n",
      "+-----------+-----------------------+\n",
      "|  CUST01906|               26904.72|\n",
      "|  CUST02928|               26418.22|\n",
      "|  CUST01648|     26248.530000000002|\n",
      "|  CUST01153|               25741.22|\n",
      "|  CUST00261|                25074.5|\n",
      "|  CUST00597|               24952.67|\n",
      "|  CUST00625|               24554.46|\n",
      "|  CUST01669|               24454.39|\n",
      "|  CUST02540|               24250.07|\n",
      "|  CUST04440|     23821.199999999997|\n",
      "+-----------+-----------------------+\n",
      "only showing top 10 rows\n",
      "\n"
     ]
    }
   ],
   "source": [
    "# 3: Calculate Customer Lifetime Value (CLV)\n",
    "print(\"Calculating Customer Lifetime Value (CLV)...\")\n",
    "df.createOrReplaceTempView(\"transactions\")\n",
    "\n",
    "clv_df = spark.sql(\"\"\"\n",
    "    SELECT Customer_ID, SUM(Total_Spending) AS Customer_Lifetime_Value\n",
    "    FROM transactions\n",
    "    GROUP BY Customer_ID\n",
    "    ORDER BY Customer_Lifetime_Value DESC\n",
    "\"\"\")\n",
    "clv_df.show(10)"
   ]
  },
  {
   "cell_type": "code",
   "execution_count": 5,
   "id": "3b91b792-911a-49b5-966d-06948cb96a2f",
   "metadata": {},
   "outputs": [
    {
     "name": "stdout",
     "output_type": "stream",
     "text": [
      "Calculating Average Order Value (AOV)...\n",
      "+-----------+-------------------+\n",
      "|Customer_ID|Average_Order_Value|\n",
      "+-----------+-------------------+\n",
      "|  CUST04349|             7981.2|\n",
      "|  CUST02685|             7949.2|\n",
      "|  CUST01352|            7934.36|\n",
      "|  CUST00329|            7917.16|\n",
      "|  CUST03496|             7905.4|\n",
      "|  CUST02770|            7898.12|\n",
      "|  CUST00519|             7898.0|\n",
      "|  CUST01038|            7835.88|\n",
      "|  CUST01239|            7832.28|\n",
      "|  CUST03222|             7819.8|\n",
      "+-----------+-------------------+\n",
      "only showing top 10 rows\n",
      "\n"
     ]
    }
   ],
   "source": [
    "# 4: Calculate Average Order Value (AOV)\n",
    "print(\"Calculating Average Order Value (AOV)...\")\n",
    "\n",
    "aov_df = spark.sql(\"\"\"\n",
    "    SELECT Customer_ID, \n",
    "           SUM(Total_Spending) / COUNT(DISTINCT Transaction_ID) AS Average_Order_Value\n",
    "    FROM transactions\n",
    "    GROUP BY Customer_ID\n",
    "    ORDER BY Average_Order_Value DESC\n",
    "\"\"\")\n",
    "\n",
    "aov_df.show(10)"
   ]
  },
  {
   "cell_type": "code",
   "execution_count": 6,
   "id": "e887ba0c-58b1-4420-abaa-a72533090f77",
   "metadata": {},
   "outputs": [
    {
     "name": "stdout",
     "output_type": "stream",
     "text": [
      "Segmenting Customers by Spending...\n",
      "+-----------+------------------+----------------+\n",
      "|Customer_ID|    Total_Spending|Customer_Segment|\n",
      "+-----------+------------------+----------------+\n",
      "|  CUST01906|          26904.72|    High Spender|\n",
      "|  CUST02928|          26418.22|    High Spender|\n",
      "|  CUST01648|26248.530000000002|    High Spender|\n",
      "|  CUST01153|          25741.22|    High Spender|\n",
      "|  CUST00261|           25074.5|    High Spender|\n",
      "|  CUST00597|          24952.67|    High Spender|\n",
      "|  CUST00625|          24554.46|    High Spender|\n",
      "|  CUST01669|          24454.39|    High Spender|\n",
      "|  CUST02540|          24250.07|    High Spender|\n",
      "|  CUST04440|23821.199999999997|    High Spender|\n",
      "+-----------+------------------+----------------+\n",
      "only showing top 10 rows\n",
      "\n"
     ]
    }
   ],
   "source": [
    "# 5: Customer Segmentation Based on Spending\n",
    "print(\"Segmenting Customers by Spending...\")\n",
    "\n",
    "segmentation_df = spark.sql(\"\"\"\n",
    "    SELECT Customer_ID, SUM(Total_Spending) AS Total_Spending,\n",
    "        CASE \n",
    "            WHEN SUM(Total_Spending) < 500 THEN 'Low Spender'\n",
    "            WHEN SUM(Total_Spending) BETWEEN 500 AND 2000 THEN 'Medium Spender'\n",
    "            ELSE 'High Spender'\n",
    "        END AS Customer_Segment\n",
    "    FROM transactions\n",
    "    GROUP BY Customer_ID\n",
    "    ORDER BY Total_Spending DESC\n",
    "\"\"\")\n",
    "\n",
    "segmentation_df.show(10)"
   ]
  },
  {
   "cell_type": "code",
   "execution_count": 7,
   "id": "aea1fa4b-ad45-4786-9dea-6dae2b6d2454",
   "metadata": {},
   "outputs": [
    {
     "name": "stdout",
     "output_type": "stream",
     "text": [
      "Identifying High-Value Customers...\n",
      "+-----------+------------------+\n",
      "|Customer_ID|     Total_Revenue|\n",
      "+-----------+------------------+\n",
      "|  CUST01906|          26904.72|\n",
      "|  CUST02928|          26418.22|\n",
      "|  CUST01648|26248.530000000002|\n",
      "|  CUST01153|          25741.22|\n",
      "|  CUST00261|           25074.5|\n",
      "|  CUST00597|          24952.67|\n",
      "|  CUST00625|          24554.46|\n",
      "|  CUST01669|          24454.39|\n",
      "|  CUST02540|          24250.07|\n",
      "|  CUST04440|23821.199999999997|\n",
      "+-----------+------------------+\n",
      "only showing top 10 rows\n",
      "\n"
     ]
    }
   ],
   "source": [
    "# 6: Identify High-Value Customers (Top 5% by Revenue)\n",
    "print(\"Identifying High-Value Customers...\")\n",
    "\n",
    "high_value_customers_df = spark.sql(\"\"\"\n",
    "    WITH RankedCustomers AS (\n",
    "        SELECT Customer_ID, SUM(Total_Spending) AS Total_Revenue,\n",
    "               PERCENT_RANK() OVER (ORDER BY SUM(Total_Spending) DESC) AS rank\n",
    "        FROM transactions\n",
    "        GROUP BY Customer_ID\n",
    "    )\n",
    "    SELECT Customer_ID, Total_Revenue FROM RankedCustomers\n",
    "    WHERE rank <= 0.05\n",
    "\"\"\")\n",
    "\n",
    "high_value_customers_df.show(10)"
   ]
  },
  {
   "cell_type": "code",
   "execution_count": 8,
   "id": "49328ba7-f21b-43d1-bb0a-4a3b024d2717",
   "metadata": {},
   "outputs": [
    {
     "name": "stdout",
     "output_type": "stream",
     "text": [
      "Identifying Best-Selling Products...\n",
      "+----+-----+------------+-----------+\n",
      "|Year|Month|Product_Name|Total_Sales|\n",
      "+----+-----+------------+-----------+\n",
      "|2023|   12| Product_187|       16.0|\n",
      "|2023|   12| Product_160|       15.0|\n",
      "|2023|   12| Product_133|       14.0|\n",
      "|2023|   12|  Product_17|       12.0|\n",
      "|2023|   12|  Product_39|       11.0|\n",
      "|2023|   12|  Product_58|       11.0|\n",
      "|2023|   12|  Product_81|       11.0|\n",
      "|2023|   12|  Product_12|       10.0|\n",
      "|2023|   12| Product_176|       10.0|\n",
      "|2023|   12|  Product_73|       10.0|\n",
      "+----+-----+------------+-----------+\n",
      "only showing top 10 rows\n",
      "\n"
     ]
    }
   ],
   "source": [
    "# 7: Best-Selling Products & Seasonal Trends\n",
    "print(\"Identifying Best-Selling Products...\")\n",
    "df = df.withColumn(\"Year\", year(col(\"Transaction_Date\")))\n",
    "df = df.withColumn(\"Month\", month(col(\"Transaction_Date\")))\n",
    "\n",
    "df.createOrReplaceTempView(\"transactions_with_date\")\n",
    "\n",
    "best_selling_products_df = spark.sql(\"\"\"\n",
    "    SELECT Year, Month, Product_Name, SUM(Quantity) AS Total_Sales\n",
    "    FROM transactions_with_date\n",
    "    GROUP BY Year, Month, Product_Name\n",
    "    ORDER BY Year DESC, Month DESC, Total_Sales DESC\n",
    "\"\"\")\n",
    "\n",
    "best_selling_products_df.show(10)"
   ]
  },
  {
   "cell_type": "markdown",
   "id": "46fa12ae-03f0-4355-9f36-5fc36b69b712",
   "metadata": {},
   "source": [
    "### -------------------------------------------------------------------------------------"
   ]
  },
  {
   "cell_type": "markdown",
   "id": "8e40fa78-e404-462d-ac8d-14dcf6a00f9b",
   "metadata": {},
   "source": [
    "## 6. Customer Segmentation"
   ]
  },
  {
   "cell_type": "code",
   "execution_count": 2,
   "id": "a1e17a3e-7e0e-426a-8606-9a6b24549d94",
   "metadata": {},
   "outputs": [],
   "source": [
    "# Import necessary PySpark MLlib libraries for Customer Segmentation\n",
    "from pyspark.sql import SparkSession\n",
    "from pyspark.sql.functions import sum, count, avg, col\n",
    "from pyspark.ml.clustering import KMeans\n",
    "from pyspark.ml.feature import VectorAssembler, StandardScaler\n",
    "import matplotlib.pyplot as plt"
   ]
  },
  {
   "cell_type": "code",
   "execution_count": 3,
   "id": "3b3be2d6-bac3-425f-ae3d-937b637d3c85",
   "metadata": {},
   "outputs": [],
   "source": [
    "# 1: Create a Spark Session\n",
    "spark = SparkSession.builder.appName(\"CustomerSegmentation\").getOrCreate()"
   ]
  },
  {
   "cell_type": "code",
   "execution_count": 4,
   "id": "562c0bca-a19e-464d-9052-45be9c9db579",
   "metadata": {},
   "outputs": [],
   "source": [
    "# 2: Load Cleaned Dataset\n",
    "file_path = \"cleaned_dataset.csv\"\n",
    "df = spark.read.csv(file_path, header=True, inferSchema=True)"
   ]
  },
  {
   "cell_type": "code",
   "execution_count": 5,
   "id": "99f4d7e2-0028-4536-9dd9-b834b84568f0",
   "metadata": {},
   "outputs": [],
   "source": [
    "# 3: Aggregate Customer Data for Clustering\n",
    "df_segment = df.groupBy(\"Customer_ID\").agg(\n",
    "    sum(\"Total_Spending\").alias(\"Total_Spending\"),\n",
    "    count(\"Transaction_ID\").alias(\"Total_Transactions\"),\n",
    "    avg(\"Quantity\").alias(\"Avg_Quantity\"),\n",
    "    avg(\"Price\").alias(\"Avg_Price\")\n",
    ")"
   ]
  },
  {
   "cell_type": "code",
   "execution_count": 6,
   "id": "a86e8ee3-2dff-45a7-9b0b-6d517aca3044",
   "metadata": {},
   "outputs": [],
   "source": [
    "# 4: Assemble Features for Clustering\n",
    "vector_assembler = VectorAssembler(inputCols=[\"Total_Spending\", \"Total_Transactions\", \"Avg_Quantity\", \"Avg_Price\"], outputCol=\"features\")\n",
    "df_features = vector_assembler.transform(df_segment)"
   ]
  },
  {
   "cell_type": "code",
   "execution_count": 7,
   "id": "ed48ade5-5576-4636-abf7-b6c9c019373e",
   "metadata": {},
   "outputs": [],
   "source": [
    "# 5: Standardize Features for Better Clustering\n",
    "scaler = StandardScaler(inputCol=\"features\", outputCol=\"scaled_features\", withStd=True, withMean=False)\n",
    "df_scaled = scaler.fit(df_features).transform(df_features)"
   ]
  },
  {
   "cell_type": "code",
   "execution_count": 8,
   "id": "91c69ce4-9d4a-4017-817e-b76953e8eb4e",
   "metadata": {},
   "outputs": [],
   "source": [
    "# 6: Determine Optimal Number of Clusters Using Elbow Method\n",
    "costs = []\n",
    "k_values = list(range(2, 8))  # Trying different cluster numbers from 2 to 7\n",
    "\n",
    "for k in k_values:\n",
    "    kmeans = KMeans(featuresCol=\"scaled_features\", k=k)\n",
    "    model = kmeans.fit(df_scaled)\n",
    "    costs.append(model.summary.trainingCost)"
   ]
  },
  {
   "cell_type": "code",
   "execution_count": 9,
   "id": "4cc8cd2a-1830-47fa-8186-7ae11b6a7bed",
   "metadata": {},
   "outputs": [
    {
     "data": {
      "image/png": "[encoded data removed]",
      "text/plain": [
       "<Figure size 800x500 with 1 Axes>"
      ]
     },
     "metadata": {},
     "output_type": "display_data"
    }
   ],
   "source": [
    "# Plot Elbow Curve\n",
    "plt.figure(figsize=(8, 5))\n",
    "plt.plot(k_values, costs, marker='o')\n",
    "plt.xlabel(\"Number of Clusters (k)\")\n",
    "plt.ylabel(\"Cost (Sum of Squared Distances)\")\n",
    "plt.title(\"Elbow Method for Optimal K in K-Means Clustering\")\n",
    "plt.grid()\n",
    "plt.show()"
   ]
  },
  {
   "cell_type": "code",
   "execution_count": 10,
   "id": "e928bce1-67a3-42a7-8f06-e8fbbbe908a1",
   "metadata": {},
   "outputs": [],
   "source": [
    "# 7: Train K-Means Clustering Model with Optimal K\n",
    "kmeans = KMeans(featuresCol=\"scaled_features\", predictionCol=\"Cluster\", k=4)\n",
    "model = kmeans.fit(df_scaled)\n",
    "df_clusters = model.transform(df_scaled)"
   ]
  },
  {
   "cell_type": "code",
   "execution_count": 11,
   "id": "3d8443b0-768c-4887-8245-e71e89069b0e",
   "metadata": {},
   "outputs": [
    {
     "name": "stdout",
     "output_type": "stream",
     "text": [
      "+-------+-----+\n",
      "|Cluster|count|\n",
      "+-------+-----+\n",
      "|      1| 1101|\n",
      "|      3| 1196|\n",
      "|      2|  974|\n",
      "|      0| 1001|\n",
      "+-------+-----+\n",
      "\n"
     ]
    }
   ],
   "source": [
    "# 8: Evaluate Cluster Sizes\n",
    "df_clusters.groupBy(\"Cluster\").count().show()"
   ]
  },
  {
   "cell_type": "code",
   "execution_count": 12,
   "id": "5d1cb998-18d9-433f-a197-0bd55388b148",
   "metadata": {},
   "outputs": [
    {
     "name": "stdout",
     "output_type": "stream",
     "text": [
      "Cluster Centroids (Average Feature Values):\n",
      "   Total_Spending  Total_Transactions  Avg_Quantity  Avg_Price  Cluster\n",
      "0        1.536677            1.307081      3.772733   2.916230        0\n",
      "1        2.520657            3.168717      3.052309   2.376396        1\n",
      "2        0.712806            1.387006      1.758405   2.705706        2\n",
      "3        0.504319            1.421882      2.960153   1.057309        3\n"
     ]
    }
   ],
   "source": [
    "# 9. Extract cluster centroids\n",
    "centroids = model.clusterCenters()\n",
    "\n",
    "# Convert centroids to DataFrame for better readability\n",
    "import pandas as pd\n",
    "centroid_df = pd.DataFrame(centroids, columns=[\"Total_Spending\", \"Total_Transactions\", \"Avg_Quantity\", \"Avg_Price\"])\n",
    "\n",
    "# Add cluster labels\n",
    "centroid_df[\"Cluster\"] = centroid_df.index\n",
    "\n",
    "# Display the cluster characteristics\n",
    "print(\"Cluster Centroids (Average Feature Values):\")\n",
    "print(centroid_df)"
   ]
  },
  {
   "cell_type": "code",
   "execution_count": 13,
   "id": "cc1d56ad-80d9-4a92-be5c-7ad29515fed1",
   "metadata": {},
   "outputs": [
    {
     "name": "stdout",
     "output_type": "stream",
     "text": [
      "+-------+------------------+------------------+------------------+------------------+\n",
      "|Cluster|Avg_Total_Spending|  Avg_Transactions|      Avg_Quantity|         Avg_Price|\n",
      "+-------+------------------+------------------+------------------+------------------+\n",
      "|      1|10661.419082652132|3.7974568574023615|2.6570768997880716|1070.1173314627397|\n",
      "|      0| 6499.560989010992|1.5664335664335665|3.2842157842157844|1313.2106793206824|\n",
      "|      2| 3014.897967145791| 1.662217659137577| 1.530715263518138| 1218.409405373033|\n",
      "|      3|2133.0755267558543|1.7040133779264215|2.5768534002229666|476.11783653846214|\n",
      "+-------+------------------+------------------+------------------+------------------+\n",
      "\n"
     ]
    }
   ],
   "source": [
    "# 10. Summarize Key Characteristics of Each Cluster\n",
    "df_clusters.groupBy(\"Cluster\").agg(\n",
    "    avg(\"Total_Spending\").alias(\"Avg_Total_Spending\"),\n",
    "    avg(\"Total_Transactions\").alias(\"Avg_Transactions\"),\n",
    "    avg(\"Avg_Quantity\").alias(\"Avg_Quantity\"),\n",
    "    avg(\"Avg_Price\").alias(\"Avg_Price\")\n",
    ").orderBy(\"Avg_Total_Spending\", ascending=False).show()"
   ]
  },
  {
   "cell_type": "code",
   "execution_count": 14,
   "id": "1e4519c5-5aaa-4fa2-99c6-94cf70df6ddf",
   "metadata": {},
   "outputs": [
    {
     "data": {
      "text/plain": [
       "0.4357661797950901"
      ]
     },
     "execution_count": 14,
     "metadata": {},
     "output_type": "execute_result"
    }
   ],
   "source": [
    "# 11. Compute Silhouette Score for Cluster Quality Evaluation\n",
    "from pyspark.ml.evaluation import ClusteringEvaluator\n",
    "evaluator = ClusteringEvaluator(featuresCol=\"scaled_features\", predictionCol=\"Cluster\", metricName=\"silhouette\")\n",
    "silhouette_score = evaluator.evaluate(df_clusters)\n",
    "silhouette_score"
   ]
  },
  {
   "cell_type": "code",
   "execution_count": 15,
   "id": "49202b35-662d-4866-997b-c45c05ad366c",
   "metadata": {},
   "outputs": [],
   "source": [
    "# 12: Save Segmented Customer Data\n",
    "df_clusters.select(\"Customer_ID\", \"Total_Spending\", \"Total_Transactions\", \"Cluster\").write.mode(\"overwrite\").csv(\"customer_segmentation.csv\", header=True)"
   ]
  },
  {
   "cell_type": "markdown",
   "id": "e2b892e1-0e0b-4584-beea-06e37fd190b8",
   "metadata": {},
   "source": [
    "#### Based on the above result the customers are segmented into following 3 clusters: \n",
    "\n",
    "##### 1. Cluster 0 - Regular Buyers\n",
    "##### 2. Cluster 1 - VIP / High-Value Customers\n",
    "##### 3. Cluster 2 - Occasional Buyers\n",
    "##### 4. Cluster 3 - Budget Buyers"
   ]
  },
  {
   "cell_type": "markdown",
   "id": "32572723-44f9-4189-970a-18ebe7690c31",
   "metadata": {},
   "source": [
    "## ------------------------------------------------------------------------------------------------------"
   ]
  }
 ],
 "metadata": {
  "kernelspec": {
   "display_name": "Python 3 (ipykernel)",
   "language": "python",
   "name": "python3"
  },
  "language_info": {
   "codemirror_mode": {
    "name": "ipython",
    "version": 3
   },
   "file_extension": ".py",
   "mimetype": "text/x-python",
   "name": "python",
   "nbconvert_exporter": "python",
   "pygments_lexer": "ipython3",
   "version": "3.12.9"
  }
 },
 "nbformat": 4,
 "nbformat_minor": 5
}
